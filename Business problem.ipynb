{
 "cells": [
  {
   "cell_type": "markdown",
   "metadata": {},
   "source": [
    "# Business problem"
   ]
  },
  {
   "cell_type": "markdown",
   "metadata": {},
   "source": [
    "## Introduction\n",
    "\n",
    "This project aims to help people making smart decision on selecting a neighborhood for living. In our everyday hyper-connected society, more and more people are migrating to other countrys. Our attention will be focused on Toronto, Canada. This project is for those people who are looking for better neighborhoods with a broad range of services: Cafes, schools, super markets, medical shops, grocery shops, mall, etc. \n",
    "\n",
    "This project will be focused around the analysis of features for a people migrating to Scarborough to search the best neighborhood for their interests. For this reason, we will realize a comparative analysis between neighborhoods. The features analyzed include median housing price and better school according to ratings, crime rates of that area, road connectivity, good magaement for emergncy and recreational facilities. \n",
    "\n",
    "## Problem which we solve\n",
    "\n",
    "The project is to suggest a better nieghborhood in a new city for the person who are shifftin there. \n",
    "\n",
    "## Location\n",
    "\n",
    "Scarborough is a  of of the  most popular destination for new immigrants in Canada to reside. As a result, it is one of the most diverse and multicultural areas in the Greater Toronto Area, being home to various religious groups and places of worship. Although immigration has become a hot topic over the past few years with more governments seeking more restrictions on immigrants and refugees, the general trend of immigration into Canada has been one of on the rise.\n",
    "\n",
    "# Foursquare API\n",
    "\n",
    "In this project we will use Four-Square API as the primary data gathering source. The main problem is that due to the http rate limitation, the number of places per neighborhood parameter would reasonable be set to 100 and the radious parameter would be set to 500.\n",
    "\n",
    "# Libraries used\n",
    "\n",
    "    1 Pandas: Creation and manipulation of dataframes.\n",
    "    2 Folium: Map visualization.\n",
    "    3 Scikit Learn: For importing k-means.\n",
    "    4 JSON: To handle JSON files.\n",
    "    5 XML: Store data in text format.\n",
    "    6 Geocoder: To retrieve Location Data.\n",
    "    7 Beautiful Soup: To Scrap and Handle http requests.\n",
    "    8 Matplotlib: Python Plotting"
   ]
  },
  {
   "cell_type": "code",
   "execution_count": null,
   "metadata": {},
   "outputs": [],
   "source": []
  }
 ],
 "metadata": {
  "kernelspec": {
   "display_name": "Python 3",
   "language": "python",
   "name": "python3"
  },
  "language_info": {
   "codemirror_mode": {
    "name": "ipython",
    "version": 3
   },
   "file_extension": ".py",
   "mimetype": "text/x-python",
   "name": "python",
   "nbconvert_exporter": "python",
   "pygments_lexer": "ipython3",
   "version": "3.7.6"
  }
 },
 "nbformat": 4,
 "nbformat_minor": 4
}
